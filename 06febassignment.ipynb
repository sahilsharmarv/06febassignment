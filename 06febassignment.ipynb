{
 "cells": [
  {
   "cell_type": "markdown",
   "id": "aa08bc67-1595-4efc-a116-86b527f4a3d3",
   "metadata": {},
   "source": [
    "Q1. Create a function which will take a list as an argument and return the product of all the numbers\n",
    "after creating a flat list.\n",
    "Use the below-given list as an argument for your function.\n",
    "list1 = [1,2,3,4, [44,55,66, True], False, (34,56,78,89,34), {1,2,3,3,2,1}, {1:34, \"key2\": [55, 67, 78, 89], 4: (45,\n",
    "22, 61, 34)}, [56, 'data science'], 'Machine Learning']\n",
    "Note: you must extract numeric keys and values of the dictionary also."
   ]
  },
  {
   "cell_type": "code",
   "execution_count": 7,
   "id": "52623393-9752-43ab-9215-6f61277ac12b",
   "metadata": {},
   "outputs": [
    {
     "name": "stdout",
     "output_type": "stream",
     "text": [
      "4134711838987085478833841242112000\n",
      "None\n"
     ]
    }
   ],
   "source": [
    "def flaaten_multiply(lst):\n",
    "    flat_list = []\n",
    "    def flatten(lst):\n",
    "        for item in lst:\n",
    "            if isinstance (item,(int,float)):\n",
    "                flat_list.append(item)\n",
    "            elif isinstance (item , (list,tuple,set)):\n",
    "                flatten(item)\n",
    "            elif isinstance(item,dict):\n",
    "                for key,value in item.items():\n",
    "                    if isinstance(key,(int,float)):\n",
    "                        flat_list.append(key)\n",
    "                    if isinstance(value,(int,float)):\n",
    "                        flat_list.append(value)\n",
    "                    if isinstance(value,(list,tuple)):\n",
    "                        flatten(value)\n",
    "                                \n",
    "    flatten(lst)\n",
    "    #print flatten list\n",
    "    result = 1\n",
    "    for item in flat_list:\n",
    "        if type(item)==int :\n",
    "            result = result * item\n",
    "    print(result)\n",
    "list1 = [1,2,3,4, [44,55,66, True], False, (34,56,78,89,34), {1,2,3,3,2,1}, {1:34, \"key2\": [55, 67, 78, 89], 4: (45,\n",
    "22, 61, 34)}, [56, 'data science'], 'Machine Learning']\n",
    "print(flaaten_multiply(list1))\n"
   ]
  },
  {
   "cell_type": "markdown",
   "id": "c06a63b0-b3e3-4dee-bd74-03e90b76d88c",
   "metadata": {},
   "source": [
    "Q2. Write a python program for encrypting a message sent to you by your friend. The logic of encryption\n",
    "should be such that, for a the output should be z. For b, the output should be y. For c, the output should\n",
    "be x respectively. Also, the whitespace should be replaced with a dollar sign. Keep the punctuation\n",
    "marks unchanged.\n",
    "Input Sentence: I want to become a Data Scientist.\n",
    "Encrypt the above input sentence using the program you just created.\n",
    "Note: Convert the given input sentence into lowercase before encrypting. The final output should be\n",
    "lowercase."
   ]
  },
  {
   "cell_type": "code",
   "execution_count": 1,
   "id": "32415344-5c3d-4dfd-9360-c7d7e926576d",
   "metadata": {},
   "outputs": [
    {
     "name": "stdout",
     "output_type": "stream",
     "text": [
      "r$dzmg$gl$yvxlnv$z$wzgz$hxrvmgrhg.\n"
     ]
    }
   ],
   "source": [
    "def encrypt_message(message):\n",
    "    # Convert the message to lowercase\n",
    "    message = message.lower()\n",
    "    \n",
    "    # Define the mapping of characters to their encrypted counterparts\n",
    "    mapping = str.maketrans(\"abcdefghijklmnopqrstuvwxyz \", \"zyxwvutsrqponmlkjihgfedcba$\")\n",
    "    \n",
    "    # Apply the mapping to the message\n",
    "    encrypted_message = message.translate(mapping)\n",
    "    \n",
    "    return encrypted_message\n",
    "    \n",
    "message = 'I want to become a Data Scientist.'\n",
    "encrypted_message = encrypt_message(message)\n",
    "print(encrypted_message)"
   ]
  }
 ],
 "metadata": {
  "kernelspec": {
   "display_name": "Python 3 (ipykernel)",
   "language": "python",
   "name": "python3"
  },
  "language_info": {
   "codemirror_mode": {
    "name": "ipython",
    "version": 3
   },
   "file_extension": ".py",
   "mimetype": "text/x-python",
   "name": "python",
   "nbconvert_exporter": "python",
   "pygments_lexer": "ipython3",
   "version": "3.10.8"
  }
 },
 "nbformat": 4,
 "nbformat_minor": 5
}
